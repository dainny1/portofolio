{
 "cells": [
  {
   "cell_type": "code",
   "execution_count": 1,
   "metadata": {},
   "outputs": [],
   "source": [
    "import pyodbc\n",
    "import numpy as np\n",
    "import pandas as pd"
   ]
  },
  {
   "cell_type": "code",
   "execution_count": 2,
   "metadata": {},
   "outputs": [
    {
     "name": "stderr",
     "output_type": "stream",
     "text": [
      "D:\\Users\\Testing\\Anaconda3\\lib\\site-packages\\IPython\\core\\interactiveshell.py:3058: DtypeWarning: Columns (0) have mixed types. Specify dtype option on import or set low_memory=False.\n",
      "  interactivity=interactivity, compiler=compiler, result=result)\n"
     ]
    }
   ],
   "source": [
    "data = pd.read_csv('medicine_conflict_data.csv',header=None)"
   ]
  },
  {
   "cell_type": "code",
   "execution_count": 3,
   "metadata": {},
   "outputs": [],
   "source": [
    "data.columns = ['PORTAL_TRANS_ID','ICD_CODE','SDL_CODE']"
   ]
  },
  {
   "cell_type": "code",
   "execution_count": 4,
   "metadata": {},
   "outputs": [],
   "source": [
    "data.drop('PORTAL_TRANS_ID',axis=1,inplace=True)"
   ]
  },
  {
   "cell_type": "code",
   "execution_count": 5,
   "metadata": {},
   "outputs": [],
   "source": [
    "data['ICD_CODE'] = data['ICD_CODE'].apply(lambda x : str(x))\n",
    "data['SDL_CODE'] = data['SDL_CODE'].apply(lambda x :str(x))"
   ]
  },
  {
   "cell_type": "code",
   "execution_count": 6,
   "metadata": {},
   "outputs": [],
   "source": [
    "data['ICD-SDL'] = data['ICD_CODE']+'-'+data['SDL_CODE']"
   ]
  },
  {
   "cell_type": "code",
   "execution_count": 7,
   "metadata": {},
   "outputs": [],
   "source": [
    "icd_sdl_percent = data['ICD-SDL'].value_counts(normalize  = True).to_dict()\n",
    "data['PERCENT'] = data['ICD-SDL'].apply(lambda x : icd_sdl_percent[x])\n",
    "icd_sdl_counts = data['ICD-SDL'].value_counts().to_dict()\n",
    "data['COUNTS'] = data['ICD-SDL'].apply(lambda x : icd_sdl_counts[x])\n",
    "distinct_data = data.drop_duplicates()\n",
    "shit = distinct_data.groupby(['ICD_CODE','SDL_CODE'])['COUNTS'].sum()/distinct_data.groupby(['ICD_CODE'])['COUNTS'].sum()\n",
    "test=pd.DataFrame(shit)\n",
    "test.reset_index(inplace=True)\n",
    "final = test[test.COUNTS >0.001].groupby('ICD_CODE')['SDL_CODE'].apply(' '.join).reset_index()\n",
    "final.SDL_CODE = final.SDL_CODE.apply(lambda x :list(map(int, x.split())))"
   ]
  },
  {
   "cell_type": "code",
   "execution_count": 8,
   "metadata": {},
   "outputs": [],
   "source": [
    "icd_sdl_dict = dict(zip(final.ICD_CODE,final.SDL_CODE))"
   ]
  },
  {
   "cell_type": "code",
   "execution_count": 9,
   "metadata": {},
   "outputs": [],
   "source": [
    "conn = pyodbc.connect('Driver={SQL Server};'\n",
    "                      'Server=192.168.1.100;'\n",
    "                      'Database=FD_Stage;'\n",
    "                      'UID=eman.youssef;'\n",
    "                      'PWD=3adda;')"
   ]
  },
  {
   "cell_type": "code",
   "execution_count": 10,
   "metadata": {},
   "outputs": [],
   "source": [
    "sql = '''SELECT  distinct\n",
    "  tb1.ICD_CODE ,\n",
    "  icds.ASCII_DESC,\n",
    "  tb1.sdl_code,\n",
    "  tb1.RECEIVED_DESC as SDL_DESC,\n",
    "  tb2.PORTAL_TRANS_ID,\n",
    "  tb2.PORTAL_DATE,\n",
    "  tb2.PROVIDER_ID,\n",
    "  tb2.MEMBER_CODE,tb2.MEMBER_AGE,\n",
    "  tb2.POLICY_NO,\n",
    "  tb2.CLAIM_DATE,\n",
    "  tb2.CLM_NET_AMT\n",
    "  FROM [FD_Stage].[dbo].[tbl_claim_services] tb1\n",
    "  join [dbo].[tbl_Claims_Submissions] tb2\n",
    "  on tb1.PORTAL_TRANS_ID = tb2.PORTAL_TRANS_ID\n",
    "  join [dbo].[tbl_Icd10s] icds\n",
    "  on icds.ICD_CODE = tb1.ICD_CODE\n",
    "  where tb1.sdl_code is not null and tb1.ICD_CODE is not null and tb1.SERVICE_TYPE ='M' '''"
   ]
  },
  {
   "cell_type": "code",
   "execution_count": 11,
   "metadata": {},
   "outputs": [],
   "source": [
    "data = pd.read_sql(sql,conn)"
   ]
  },
  {
   "cell_type": "code",
   "execution_count": 12,
   "metadata": {},
   "outputs": [],
   "source": [
    "def get_conflicts(icds,sdls,icd_sdl):\n",
    "    l = []\n",
    "    for i in range(0,len(icds)):\n",
    "        if icds[i] in icd_sdl.keys():\n",
    "            if sdls[i] in icd_sdl[icds[i]]:\n",
    "                l.append(0)\n",
    "            else:\n",
    "                l.append(1)\n",
    "        else:\n",
    "            l.append(1)\n",
    "    return l"
   ]
  },
  {
   "cell_type": "code",
   "execution_count": 13,
   "metadata": {},
   "outputs": [],
   "source": [
    "conflicts = get_conflicts(list(data.ICD_CODE.values),list(data.sdl_code.values),icd_sdl_dict)"
   ]
  },
  {
   "cell_type": "code",
   "execution_count": 22,
   "metadata": {},
   "outputs": [
    {
     "data": {
      "text/plain": [
       "<matplotlib.axes._subplots.AxesSubplot at 0x20ac80252b0>"
      ]
     },
     "execution_count": 22,
     "metadata": {},
     "output_type": "execute_result"
    },
    {
     "data": {
      "image/png": "[encoded data removed]",
      "text/plain": [
       "<Figure size 432x288 with 1 Axes>"
      ]
     },
     "metadata": {
      "needs_background": "light"
     },
     "output_type": "display_data"
    }
   ],
   "source": [
    "pd.Series(conflicts).value_counts().plot(kind='bar')"
   ]
  },
  {
   "cell_type": "code",
   "execution_count": 29,
   "metadata": {},
   "outputs": [
    {
     "data": {
      "text/plain": [
       "0    510734\n",
       "1    104693\n",
       "dtype: int64"
      ]
     },
     "execution_count": 29,
     "metadata": {},
     "output_type": "execute_result"
    }
   ],
   "source": [
    "pd.Series(conflicts).value_counts()"
   ]
  },
  {
   "cell_type": "code",
   "execution_count": 24,
   "metadata": {},
   "outputs": [
    {
     "data": {
      "text/plain": [
       "0.1701144083701235"
      ]
     },
     "execution_count": 24,
     "metadata": {},
     "output_type": "execute_result"
    }
   ],
   "source": [
    "104693/len(data)"
   ]
  },
  {
   "cell_type": "code",
   "execution_count": 25,
   "metadata": {},
   "outputs": [
    {
     "data": {
      "text/plain": [
       "615427"
      ]
     },
     "execution_count": 25,
     "metadata": {},
     "output_type": "execute_result"
    }
   ],
   "source": [
    "len(data)"
   ]
  },
  {
   "cell_type": "code",
   "execution_count": 26,
   "metadata": {},
   "outputs": [
    {
     "data": {
      "text/html": [
       "<div>\n",
       "<style scoped>\n",
       "    .dataframe tbody tr th:only-of-type {\n",
       "        vertical-align: middle;\n",
       "    }\n",
       "\n",
       "    .dataframe tbody tr th {\n",
       "        vertical-align: top;\n",
       "    }\n",
       "\n",
       "    .dataframe thead th {\n",
       "        text-align: right;\n",
       "    }\n",
       "</style>\n",
       "<table border=\"1\" class=\"dataframe\">\n",
       "  <thead>\n",
       "    <tr style=\"text-align: right;\">\n",
       "      <th></th>\n",
       "      <th>ICD_CODE</th>\n",
       "      <th>ASCII_DESC</th>\n",
       "      <th>sdl_code</th>\n",
       "      <th>SDL_DESC</th>\n",
       "      <th>PORTAL_TRANS_ID</th>\n",
       "      <th>PORTAL_DATE</th>\n",
       "      <th>PROVIDER_ID</th>\n",
       "      <th>MEMBER_CODE</th>\n",
       "      <th>MEMBER_AGE</th>\n",
       "      <th>POLICY_NO</th>\n",
       "      <th>CLAIM_DATE</th>\n",
       "      <th>CLM_NET_AMT</th>\n",
       "      <th>labels</th>\n",
       "    </tr>\n",
       "  </thead>\n",
       "  <tbody>\n",
       "    <tr>\n",
       "      <td>0</td>\n",
       "      <td>001</td>\n",
       "      <td>No Diagnosis</td>\n",
       "      <td>289565</td>\n",
       "      <td>Medicine</td>\n",
       "      <td>M51979416</td>\n",
       "      <td>2018-10-06 00:00:00</td>\n",
       "      <td>530990</td>\n",
       "      <td>002446163228002</td>\n",
       "      <td>NaN</td>\n",
       "      <td>14916448.0</td>\n",
       "      <td>2018-07-26</td>\n",
       "      <td>35.50</td>\n",
       "      <td>0</td>\n",
       "    </tr>\n",
       "    <tr>\n",
       "      <td>1</td>\n",
       "      <td>001</td>\n",
       "      <td>No Diagnosis</td>\n",
       "      <td>289565</td>\n",
       "      <td>Medicine</td>\n",
       "      <td>M51979482</td>\n",
       "      <td>2018-10-06 00:00:00</td>\n",
       "      <td>530990</td>\n",
       "      <td>001016816421101</td>\n",
       "      <td>NaN</td>\n",
       "      <td>14850894.0</td>\n",
       "      <td>2018-07-17</td>\n",
       "      <td>66.47</td>\n",
       "      <td>0</td>\n",
       "    </tr>\n",
       "    <tr>\n",
       "      <td>2</td>\n",
       "      <td>001</td>\n",
       "      <td>No Diagnosis</td>\n",
       "      <td>289565</td>\n",
       "      <td>Medicine</td>\n",
       "      <td>M52020162</td>\n",
       "      <td>2018-10-08 00:00:00</td>\n",
       "      <td>530990</td>\n",
       "      <td>001042368413001</td>\n",
       "      <td>NaN</td>\n",
       "      <td>1024.0</td>\n",
       "      <td>2018-07-25</td>\n",
       "      <td>71.21</td>\n",
       "      <td>0</td>\n",
       "    </tr>\n",
       "    <tr>\n",
       "      <td>3</td>\n",
       "      <td>A01</td>\n",
       "      <td>Typhoid and paratyphoid fevers</td>\n",
       "      <td>119</td>\n",
       "      <td>ADOL 500MG CAPLET</td>\n",
       "      <td>434855586</td>\n",
       "      <td>2018-10-02 20:48:25</td>\n",
       "      <td>550042</td>\n",
       "      <td>001025018266251</td>\n",
       "      <td>18.0</td>\n",
       "      <td>8900.0</td>\n",
       "      <td>2018-09-13</td>\n",
       "      <td>223.84</td>\n",
       "      <td>0</td>\n",
       "    </tr>\n",
       "    <tr>\n",
       "      <td>4</td>\n",
       "      <td>A01</td>\n",
       "      <td>Typhoid and paratyphoid fevers</td>\n",
       "      <td>179</td>\n",
       "      <td>Risek 20 mg capsul</td>\n",
       "      <td>437285538</td>\n",
       "      <td>2018-10-13 12:56:58</td>\n",
       "      <td>524611</td>\n",
       "      <td>002359688104202</td>\n",
       "      <td>2.0</td>\n",
       "      <td>14957670.0</td>\n",
       "      <td>2018-09-15</td>\n",
       "      <td>574.49</td>\n",
       "      <td>0</td>\n",
       "    </tr>\n",
       "  </tbody>\n",
       "</table>\n",
       "</div>"
      ],
      "text/plain": [
       "  ICD_CODE                      ASCII_DESC  sdl_code            SDL_DESC  \\\n",
       "0      001                    No Diagnosis    289565            Medicine   \n",
       "1      001                    No Diagnosis    289565            Medicine   \n",
       "2      001                    No Diagnosis    289565            Medicine   \n",
       "3      A01  Typhoid and paratyphoid fevers       119   ADOL 500MG CAPLET   \n",
       "4      A01  Typhoid and paratyphoid fevers       179  Risek 20 mg capsul   \n",
       "\n",
       "  PORTAL_TRANS_ID         PORTAL_DATE PROVIDER_ID      MEMBER_CODE  \\\n",
       "0       M51979416 2018-10-06 00:00:00      530990  002446163228002   \n",
       "1       M51979482 2018-10-06 00:00:00      530990  001016816421101   \n",
       "2       M52020162 2018-10-08 00:00:00      530990  001042368413001   \n",
       "3       434855586 2018-10-02 20:48:25      550042  001025018266251   \n",
       "4       437285538 2018-10-13 12:56:58      524611  002359688104202   \n",
       "\n",
       "   MEMBER_AGE   POLICY_NO CLAIM_DATE  CLM_NET_AMT  labels  \n",
       "0         NaN  14916448.0 2018-07-26        35.50       0  \n",
       "1         NaN  14850894.0 2018-07-17        66.47       0  \n",
       "2         NaN      1024.0 2018-07-25        71.21       0  \n",
       "3        18.0      8900.0 2018-09-13       223.84       0  \n",
       "4         2.0  14957670.0 2018-09-15       574.49       0  "
      ]
     },
     "execution_count": 26,
     "metadata": {},
     "output_type": "execute_result"
    }
   ],
   "source": [
    "data.head()"
   ]
  },
  {
   "cell_type": "code",
   "execution_count": 27,
   "metadata": {},
   "outputs": [],
   "source": [
    "data['labels'] = pd.Series(conflicts)"
   ]
  },
  {
   "cell_type": "code",
   "execution_count": 31,
   "metadata": {},
   "outputs": [
    {
     "data": {
      "text/plain": [
       "0    510734\n",
       "1    104693\n",
       "Name: labels, dtype: int64"
      ]
     },
     "execution_count": 31,
     "metadata": {},
     "output_type": "execute_result"
    }
   ],
   "source": [
    "data.labels.value_counts()"
   ]
  },
  {
   "cell_type": "code",
   "execution_count": 32,
   "metadata": {},
   "outputs": [],
   "source": [
    "data.to_csv('thread_806.csv')"
   ]
  },
  {
   "cell_type": "code",
   "execution_count": null,
   "metadata": {},
   "outputs": [],
   "source": []
  }
 ],
 "metadata": {
  "kernelspec": {
   "display_name": "Python 3",
   "language": "python",
   "name": "python3"
  },
  "language_info": {
   "codemirror_mode": {
    "name": "ipython",
    "version": 3
   },
   "file_extension": ".py",
   "mimetype": "text/x-python",
   "name": "python",
   "nbconvert_exporter": "python",
   "pygments_lexer": "ipython3",
   "version": "3.7.3"
  }
 },
 "nbformat": 4,
 "nbformat_minor": 2
}
